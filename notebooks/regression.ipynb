{
  "nbformat": 4,
  "nbformat_minor": 0,
  "metadata": {
    "colab": {
      "provenance": []
    },
    "kernelspec": {
      "name": "python3",
      "display_name": "Python 3"
    },
    "language_info": {
      "name": "python"
    }
  },
  "cells": [
    {
      "cell_type": "code",
      "source": [
        "import os\n",
        "import cv2\n",
        "import csv\n",
        "import numpy as np\n",
        "from skimage import measure\n",
        "import joblib\n",
        "from tensorflow.keras.models import load_model\n",
        "\n",
        "\n",
        "\n",
        "MODEL_PATH = ''\n",
        "IMAGE_PATH = ''\n",
        "target_size = (512, 512)\n",
        "\n",
        "def segment_image(original_image, mask_image_path):\n",
        "\n",
        "\n",
        "    original_image = original_image[0]\n",
        "\n",
        "    #mask_image = cv2.resize(mask_image, (512, 512))\n",
        "    mask_image = cv2.imread(mask_image_path, cv2.IMREAD_GRAYSCALE)\n",
        "    mask_image = cv2.resize(mask_image, (512, 512))\n",
        "\n",
        "\n",
        "    # Make sure the mask is binary\n",
        "    print(original_image.shape)\n",
        "    print(mask_image.shape)\n",
        "    _, binary_mask = cv2.threshold(mask_image, 0, 255, cv2.THRESH_BINARY)\n",
        "\n",
        "    segmented_image = cv2.bitwise_and(original_image, original_image, mask=binary_mask)\n",
        "    return segmented_image\n",
        "    # cv2.imwrite(output_image_path, segmented_image)\n",
        "    # return True\n",
        "\n",
        "\n",
        "def predict_segmentation(model, preprocessed_image):\n",
        "\n",
        "    prediction = model.predict(preprocessed_image)\n",
        "    prediction = np.squeeze(prediction, axis=0)\n",
        "    prediction = (prediction > 0.5).astype(np.uint8)\n",
        "    return prediction\n",
        "\n",
        "\n",
        "def calculate_average_rgb(image):\n",
        "    '''\n",
        "    This function calculates the average RGB values of an image.\n",
        "\n",
        "    Args:\n",
        "        image_path (str): The path to the image.\n",
        "\n",
        "    Returns:\n",
        "        numpy.ndarray: The average RGB values as a NumPy array.\n",
        "    '''\n",
        "\n",
        "    average_rgb = np.mean(image, axis=(0, 1))\n",
        "    return average_rgb\n",
        "\n",
        "\n",
        "def blur_image(image):\n",
        "    '''\n",
        "    This function blurs an image using a Gaussian blur and saves the blurred image.\n",
        "\n",
        "    Args:\n",
        "\n",
        "    Returns:\n",
        "        bool: True if successful, False otherwise.\n",
        "    '''\n",
        "    blurred = cv2.GaussianBlur(image, (5, 5), 0)\n",
        "\n",
        "    _, binary = cv2.threshold(blurred, 127, 255, cv2.THRESH_BINARY)\n",
        "\n",
        "    labels = measure.label(binary, connectivity=2)\n",
        "\n",
        "    properties = measure.regionprops(labels)\n",
        "    largest_region = max(properties, key=lambda x: x.area)\n",
        "\n",
        "    return largest_region\n",
        "\n",
        "def preprocess_image(image_path, target_size):\n",
        "    image = cv2.imread(image_path)\n",
        "    image = cv2.cvtColor(image, cv2.COLOR_BGR2RGB)\n",
        "    image = cv2.resize(image, target_size)\n",
        "    image = image / 255.0\n",
        "    image = np.expand_dims(image, axis=0)\n",
        "    return image\n",
        "\n",
        "\n",
        "def read_and_reshape_image(image_path, target_size):\n",
        "    image = cv2.imread(image_path)\n",
        "    image = cv2.resize(image, target_size)\n",
        "    image = np.expand_dims(image, axis=0)\n",
        "    print(image.shape)\n",
        "    return image\n",
        "\n",
        "\n"
      ],
      "metadata": {
        "id": "QjbLEniP1dei"
      },
      "execution_count": 61,
      "outputs": []
    },
    {
      "cell_type": "code",
      "source": [
        "\n",
        "def image_to_mean_rgb(file_names, body_parts, age, gender):\n",
        "    '''['tongue', 'right_fingernail', 'left_fingernail', 'left_palm', 'right_palm', 'left_eye', 'right_eye']'''\n",
        "    # average_rgb_values = []\n",
        "    results = {}\n",
        "    for i in range(7):\n",
        "        filename = file_names[i]\n",
        "        body_part = body_parts[i]\n",
        "        model_name = ''\n",
        "        print(body_part)\n",
        "\n",
        "        # Load the appropriate pre-trained model\n",
        "        if body_part.endswith(\"eye\"):\n",
        "            model_name = 'eyelid_model.h5'\n",
        "        elif body_part.endswith(\"fingernail\"):\n",
        "            model_name = 'fingernail_model.h5'\n",
        "        elif body_part.endswith(\"palm\"):\n",
        "            model_name = 'palm_model.h5'\n",
        "        else:\n",
        "            continue\n",
        "\n",
        "        # Load image and model\n",
        "        image_path = os.path.join(IMAGE_PATH, filename)\n",
        "        model_path = os.path.join(MODEL_PATH, model_name)\n",
        "        print(model_name)\n",
        "\n",
        "        model = load_model(model_path)\n",
        "        preprocessed_image = preprocess_image(image_path, target_size)\n",
        "        prediction = predict_segmentation(model, preprocessed_image)\n",
        "\n",
        "\n",
        "        # If the body part is not a fingernail, blur the image using gaussian blur\n",
        "        if not body_part.endswith(\"fingernail\"):\n",
        "            image = prediction * 255\n",
        "            blurred = cv2.GaussianBlur(image, (5, 5), 0)\n",
        "            _, binary = cv2.threshold(blurred, 127, 255, cv2.THRESH_BINARY)\n",
        "            labels = measure.label(binary, connectivity=2)\n",
        "            properties = measure.regionprops(labels)\n",
        "            if len(properties) == 0:\n",
        "                print(\"No regions found\")\n",
        "                largest_region_mask = np.zeros_like(binary)\n",
        "            else:\n",
        "                largest_region = max(properties, key=lambda x: x.area)\n",
        "                largest_region_mask = np.zeros_like(binary)\n",
        "                largest_region_mask[labels == largest_region.label] = 255\n",
        "            mask = largest_region_mask\n",
        "        else:\n",
        "            mask = prediction * 255\n",
        "\n",
        "        cv2.imwrite(os.path.join('mask', filename), mask)\n",
        "        print('blur done')\n",
        "\n",
        "\n",
        "        # Segment the image\n",
        "        original_image = read_and_reshape_image(image_path, target_size)\n",
        "        print(original_image.shape)\n",
        "        segmented_image = segment_image(original_image, os.path.join('mask', filename))\n",
        "        cv2.imwrite(os.path.join('cropped', filename), segmented_image)\n",
        "        print('segmentation done')\n",
        "\n",
        "\n",
        "        # calculate average rgb\n",
        "        average_rgb = calculate_average_rgb(segmented_image)\n",
        "        # average_rgb_values.append(average_rgb)\n",
        "        results[body_part] = average_rgb\n",
        "        results['age'] = age\n",
        "        results['gender'] = gender\n",
        "    return results\n",
        "\n",
        "\n",
        "#if \"__name__\" == \"__main__\":\n",
        "values = image_to_mean_rgb(['tongue.jpg', 'right_nail.jpg', 'left_nail.jpg', 'left_palm.jpg', 'right_palm.jpg', 'left_eye.jpg', 'right_eye.jpg'],\n",
        "                    ['tongue', 'right_fingernail', 'left_fingernail', 'left_palm', 'right_palm', 'left_eye', 'right_eye'], 22, 'male')\n",
        "print(values)\n",
        "print(\"Done\")"
      ],
      "metadata": {
        "colab": {
          "base_uri": "https://localhost:8080/"
        },
        "id": "s9kPqDhHJXDw",
        "outputId": "625e3094-ef8c-4e31-d28f-84d9cc1dacba"
      },
      "execution_count": 62,
      "outputs": [
        {
          "output_type": "stream",
          "name": "stdout",
          "text": [
            "tongue\n",
            "right_fingernail\n",
            "fingernail_model.h5\n"
          ]
        },
        {
          "output_type": "stream",
          "name": "stderr",
          "text": [
            "WARNING:absl:Compiled the loaded model, but the compiled metrics have yet to be built. `model.compile_metrics` will be empty until you train or evaluate the model.\n"
          ]
        },
        {
          "output_type": "stream",
          "name": "stdout",
          "text": [
            "\u001b[1m1/1\u001b[0m \u001b[32m━━━━━━━━━━━━━━━━━━━━\u001b[0m\u001b[37m\u001b[0m \u001b[1m26s\u001b[0m 26s/step\n"
          ]
        },
        {
          "output_type": "stream",
          "name": "stderr",
          "text": [
            "WARNING:absl:Compiled the loaded model, but the compiled metrics have yet to be built. `model.compile_metrics` will be empty until you train or evaluate the model.\n"
          ]
        },
        {
          "output_type": "stream",
          "name": "stdout",
          "text": [
            "blur done\n",
            "(1, 512, 512, 3)\n",
            "(1, 512, 512, 3)\n",
            "(512, 512, 3)\n",
            "(512, 512)\n",
            "segmentation done\n",
            "left_fingernail\n",
            "fingernail_model.h5\n",
            "\u001b[1m1/1\u001b[0m \u001b[32m━━━━━━━━━━━━━━━━━━━━\u001b[0m\u001b[37m\u001b[0m \u001b[1m4s\u001b[0m 4s/step\n"
          ]
        },
        {
          "output_type": "stream",
          "name": "stderr",
          "text": [
            "WARNING:absl:Compiled the loaded model, but the compiled metrics have yet to be built. `model.compile_metrics` will be empty until you train or evaluate the model.\n"
          ]
        },
        {
          "output_type": "stream",
          "name": "stdout",
          "text": [
            "blur done\n",
            "(1, 512, 512, 3)\n",
            "(1, 512, 512, 3)\n",
            "(512, 512, 3)\n",
            "(512, 512)\n",
            "segmentation done\n",
            "left_palm\n",
            "palm_model.h5\n",
            "\u001b[1m1/1\u001b[0m \u001b[32m━━━━━━━━━━━━━━━━━━━━\u001b[0m\u001b[37m\u001b[0m \u001b[1m6s\u001b[0m 6s/step\n",
            "blur done\n",
            "(1, 512, 512, 3)\n",
            "(1, 512, 512, 3)\n",
            "(512, 512, 3)\n",
            "(512, 512)\n",
            "segmentation done\n",
            "right_palm\n",
            "palm_model.h5\n"
          ]
        },
        {
          "output_type": "stream",
          "name": "stderr",
          "text": [
            "WARNING:absl:Compiled the loaded model, but the compiled metrics have yet to be built. `model.compile_metrics` will be empty until you train or evaluate the model.\n"
          ]
        },
        {
          "output_type": "stream",
          "name": "stdout",
          "text": [
            "\u001b[1m1/1\u001b[0m \u001b[32m━━━━━━━━━━━━━━━━━━━━\u001b[0m\u001b[37m\u001b[0m \u001b[1m4s\u001b[0m 4s/step\n"
          ]
        },
        {
          "output_type": "stream",
          "name": "stderr",
          "text": [
            "WARNING:absl:Compiled the loaded model, but the compiled metrics have yet to be built. `model.compile_metrics` will be empty until you train or evaluate the model.\n"
          ]
        },
        {
          "output_type": "stream",
          "name": "stdout",
          "text": [
            "blur done\n",
            "(1, 512, 512, 3)\n",
            "(1, 512, 512, 3)\n",
            "(512, 512, 3)\n",
            "(512, 512)\n",
            "segmentation done\n",
            "left_eye\n",
            "eyelid_model.h5\n",
            "\u001b[1m1/1\u001b[0m \u001b[32m━━━━━━━━━━━━━━━━━━━━\u001b[0m\u001b[37m\u001b[0m \u001b[1m4s\u001b[0m 4s/step\n"
          ]
        },
        {
          "output_type": "stream",
          "name": "stderr",
          "text": [
            "WARNING:absl:Compiled the loaded model, but the compiled metrics have yet to be built. `model.compile_metrics` will be empty until you train or evaluate the model.\n"
          ]
        },
        {
          "output_type": "stream",
          "name": "stdout",
          "text": [
            "blur done\n",
            "(1, 512, 512, 3)\n",
            "(1, 512, 512, 3)\n",
            "(512, 512, 3)\n",
            "(512, 512)\n",
            "segmentation done\n",
            "right_eye\n",
            "eyelid_model.h5\n",
            "\u001b[1m1/1\u001b[0m \u001b[32m━━━━━━━━━━━━━━━━━━━━\u001b[0m\u001b[37m\u001b[0m \u001b[1m6s\u001b[0m 6s/step\n",
            "blur done\n",
            "(1, 512, 512, 3)\n",
            "(1, 512, 512, 3)\n",
            "(512, 512, 3)\n",
            "(512, 512)\n",
            "segmentation done\n",
            "{'right_fingernail': array([2.2915535 , 2.94833374, 3.73516846]), 'age': 22, 'gender': 'male', 'left_fingernail': array([2.51485443, 4.4309845 , 5.31111526]), 'left_palm': array([18.03853607, 28.34124756, 33.01542282]), 'right_palm': array([ 9.72921371, 20.49105835, 29.70488739]), 'left_eye': array([0.00291824, 0.01586533, 0.05227661]), 'right_eye': array([0.30593872, 0.44629288, 0.82648087])}\n",
            "Done\n"
          ]
        }
      ]
    },
    {
      "cell_type": "code",
      "source": [
        "sum(values['right_fingernail'])"
      ],
      "metadata": {
        "colab": {
          "base_uri": "https://localhost:8080/"
        },
        "id": "tW8E_UbEW_mW",
        "outputId": "56d2c884-dc79-4135-c789-6809942e357e"
      },
      "execution_count": 66,
      "outputs": [
        {
          "output_type": "execute_result",
          "data": {
            "text/plain": [
              "8.975055694580078"
            ]
          },
          "metadata": {},
          "execution_count": 66
        }
      ]
    },
    {
      "cell_type": "code",
      "source": [
        "import numpy as np\n",
        "import pandas as pd\n",
        "import xgboost as xgb\n",
        "from sklearn.model_selection import train_test_split\n",
        "from sklearn.metrics import r2_score, mean_squared_error\n",
        "import matplotlib.pyplot as plt\n",
        "import seaborn as sns\n",
        "from tensorflow.keras.models import Sequential\n",
        "from tensorflow.keras.layers import Dense, Conv2D, Flatten, BatchNormalization"
      ],
      "metadata": {
        "id": "YCs1c454Xlux"
      },
      "execution_count": 67,
      "outputs": []
    },
    {
      "cell_type": "code",
      "source": [
        "xgb_model = xgb.XGBRegressor()\n",
        "xgb_model.load_model(\"xgb_model.json\")\n",
        "print(\"Model loaded successfully!\")"
      ],
      "metadata": {
        "colab": {
          "base_uri": "https://localhost:8080/"
        },
        "id": "HqyQCZ6IV3HY",
        "outputId": "10cde762-e73f-4c7b-bb1b-05bb447d0b50"
      },
      "execution_count": 68,
      "outputs": [
        {
          "output_type": "stream",
          "name": "stdout",
          "text": [
            "Model loaded successfully!\n"
          ]
        }
      ]
    },
    {
      "cell_type": "code",
      "source": [
        "def preprocess_input(input_dict):\n",
        "    combined_left_eye = sum(input_dict['left_eye'])/ 3\n",
        "    combined_left_palm = sum(input_dict['right_palm']) / 3\n",
        "    combined_right_nail = sum(input_dict['right_fingernail']) / 3\n",
        "\n",
        "    features = np.array([\n",
        "        combined_left_eye,\n",
        "        combined_left_palm,\n",
        "        combined_right_nail,\n",
        "        values['right_fingernail'][0],\n",
        "        values['right_fingernail'][1],\n",
        "        values['right_fingernail'][2]\n",
        "    ]).reshape(1, -1)\n",
        "    return features\n",
        "\n",
        "processed_input = preprocess_input(values)\n",
        "\n",
        "predicted_hb_level = xgb_model.predict(processed_input)\n",
        "print(f\"Predicted Hemoglobin Level: {predicted_hb_level[0]:.2f} mg/dl\")"
      ],
      "metadata": {
        "colab": {
          "base_uri": "https://localhost:8080/"
        },
        "id": "axGsLoG2VT-x",
        "outputId": "d47b9b9f-bc61-4408-ea21-92e90c24a233"
      },
      "execution_count": 70,
      "outputs": [
        {
          "output_type": "stream",
          "name": "stdout",
          "text": [
            "Predicted Hemoglobin Level: 12.74 mg/dl\n"
          ]
        }
      ]
    }
  ]
}